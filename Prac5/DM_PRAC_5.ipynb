{
  "nbformat": 4,
  "nbformat_minor": 0,
  "metadata": {
    "colab": {
      "name": "DM PRAC 5.ipynb",
      "provenance": []
    },
    "kernelspec": {
      "name": "python3",
      "display_name": "Python 3"
    }
  },
  "cells": [
    {
      "cell_type": "markdown",
      "metadata": {
        "id": "mtlgIkZQ5bq2"
      },
      "source": [
        "# 3-4-5 Natural Partitioning"
      ]
    },
    {
      "cell_type": "markdown",
      "metadata": {
        "id": "1dfNfpLM5hzg"
      },
      "source": [
        "**Importing necessary libraries**"
      ]
    },
    {
      "cell_type": "code",
      "metadata": {
        "id": "c0ICyAwr356w"
      },
      "source": [
        "import numpy as np\n",
        "import pandas as pd"
      ],
      "execution_count": 42,
      "outputs": []
    },
    {
      "cell_type": "markdown",
      "metadata": {
        "id": "f9CGVDvc-7Jy"
      },
      "source": [
        "**Taking Input**"
      ]
    },
    {
      "cell_type": "code",
      "metadata": {
        "id": "JJYJTgnK5mCU"
      },
      "source": [
        "X = [32, 38, 48, 91, 46, 37, 22, 69, 78, 82, 33, 49, 55, 66, 84, 86, 67, 80, 79, 44]"
      ],
      "execution_count": 43,
      "outputs": []
    },
    {
      "cell_type": "code",
      "metadata": {
        "id": "-luFFZBS56lU"
      },
      "source": [
        "# min = int(input(\"Enter minimum value: \"))\n",
        "# max = int(input(\"Enter maximum value: \"))\n",
        "\n",
        "min = 0\n",
        "max = 100"
      ],
      "execution_count": 44,
      "outputs": []
    },
    {
      "cell_type": "markdown",
      "metadata": {
        "id": "rSA0AyPx_BMt"
      },
      "source": [
        "### Defining the partitioning algorithm"
      ]
    },
    {
      "cell_type": "code",
      "metadata": {
        "id": "YzwAQFbp6D01"
      },
      "source": [
        "def partitioning(nums,minimum,maximum):\n",
        "\n",
        "  # Finding the most significant digit\n",
        "  nums = sorted(nums)\n",
        "  print()\n",
        "  print(\"Numbers = {}\".format(nums))\n",
        "  print(\"Number of distinct values = {}\".format(maximum - minimum))\n",
        "  \n",
        "  most_sig_digit = int(str(maximum - minimum)[0])\n",
        "  print(\"Most Significant Digit = {}\".format(most_sig_digit))\n",
        "\n",
        "\n",
        "  # Finding the number of partitions\n",
        "  num_of_partitions = 0\n",
        "  if most_sig_digit in [3, 6, 7, 9]:\n",
        "      num_of_partitions = 3\n",
        "  elif most_sig_digit in [2, 4, 8]:\n",
        "      num_of_partitions = 4\n",
        "  else:\n",
        "      num_of_partitions = 5\n",
        "  print(\"Number of partitions decided : \", num_of_partitions)\n",
        "\n",
        "\n",
        "  # Initializing the partitions dictionary and intervals list\n",
        "  temp = (maximum-minimum) / num_of_partitions\n",
        "  partitions = {}\n",
        "  intervals = []\n",
        "\n",
        "\n",
        "  # Adding partitions and intervals\n",
        "  for i in range(0,num_of_partitions):\n",
        "    interval_min = round(minimum + (i*temp))\n",
        "    interval_max = round(minimum + (i+1)*temp)\n",
        "    intervals.append((i+1,interval_min,interval_max))\n",
        "\n",
        "    partitions[i+1] = []\n",
        "\n",
        "  print(\"Partitions = {}\".format(partitions))\n",
        "  print(\"Intervals = {}\".format(intervals))\n",
        "\n",
        "  for num in nums:\n",
        "    for interval in intervals:\n",
        "      if num > interval[1] and num < interval[2]:\n",
        "        partitions[interval[0]].append(num)\n",
        "  \n",
        "  print(\"Partitions = {}\".format(partitions))\n",
        "  print()\n",
        "  return partitions,intervals"
      ],
      "execution_count": 45,
      "outputs": []
    },
    {
      "cell_type": "markdown",
      "metadata": {
        "id": "8-Ea-nsn_N0C"
      },
      "source": [
        "### Partitioning for 2 Levels"
      ]
    },
    {
      "cell_type": "code",
      "metadata": {
        "colab": {
          "base_uri": "https://localhost:8080/"
        },
        "id": "Vh4Pkxq07EUe",
        "outputId": "89c45490-94ae-42d6-d117-b2049d2cb5ae"
      },
      "source": [
        "print(\"---------------- LEVEL 1 ----------------\")\n",
        "partitions,intervals = partitioning(X,min,max)\n",
        "\n",
        "print(\"---------------- LEVEL 2 ----------------\")\n",
        "final_partitions = {}\n",
        "i = 1\n",
        "for interval in intervals:\n",
        "  partitions,intervals = partitioning(newData[interval[0]],interval[1],interval[2])\n",
        "  for key in partitions.keys():\n",
        "    final_partitions[i] = partitions[key]\n",
        "    i += 1"
      ],
      "execution_count": 46,
      "outputs": [
        {
          "output_type": "stream",
          "text": [
            "---------------- LEVEL 1 ----------------\n",
            "\n",
            "Numbers = [22, 32, 33, 37, 38, 44, 46, 48, 49, 55, 66, 67, 69, 78, 79, 80, 82, 84, 86, 91]\n",
            "Number of distinct values = 100\n",
            "Most Significant Digit = 1\n",
            "Number of partitions decided :  5\n",
            "Partitions = {1: [], 2: [], 3: [], 4: [], 5: []}\n",
            "Intervals = [(1, 0, 20), (2, 20, 40), (3, 40, 60), (4, 60, 80), (5, 80, 100)]\n",
            "Partitions = {1: [], 2: [22, 32, 33, 37, 38], 3: [44, 46, 48, 49, 55], 4: [66, 67, 69, 78, 79], 5: [82, 84, 86, 91]}\n",
            "\n",
            "---------------- LEVEL 2 ----------------\n",
            "\n",
            "Numbers = []\n",
            "Number of distinct values = 20\n",
            "Most Significant Digit = 2\n",
            "Number of partitions decided :  4\n",
            "Partitions = {1: [], 2: [], 3: [], 4: []}\n",
            "Intervals = [(1, 0, 5), (2, 5, 10), (3, 10, 15), (4, 15, 20)]\n",
            "Partitions = {1: [], 2: [], 3: [], 4: []}\n",
            "\n",
            "\n",
            "Numbers = [22, 32, 33, 37, 38]\n",
            "Number of distinct values = 20\n",
            "Most Significant Digit = 2\n",
            "Number of partitions decided :  4\n",
            "Partitions = {1: [], 2: [], 3: [], 4: []}\n",
            "Intervals = [(1, 20, 25), (2, 25, 30), (3, 30, 35), (4, 35, 40)]\n",
            "Partitions = {1: [22], 2: [], 3: [32, 33], 4: [37, 38]}\n",
            "\n",
            "\n",
            "Numbers = [44, 46, 48, 49, 55]\n",
            "Number of distinct values = 20\n",
            "Most Significant Digit = 2\n",
            "Number of partitions decided :  4\n",
            "Partitions = {1: [], 2: [], 3: [], 4: []}\n",
            "Intervals = [(1, 40, 45), (2, 45, 50), (3, 50, 55), (4, 55, 60)]\n",
            "Partitions = {1: [44], 2: [46, 48, 49], 3: [], 4: []}\n",
            "\n",
            "\n",
            "Numbers = [66, 67, 69, 78, 79]\n",
            "Number of distinct values = 20\n",
            "Most Significant Digit = 2\n",
            "Number of partitions decided :  4\n",
            "Partitions = {1: [], 2: [], 3: [], 4: []}\n",
            "Intervals = [(1, 60, 65), (2, 65, 70), (3, 70, 75), (4, 75, 80)]\n",
            "Partitions = {1: [], 2: [66, 67, 69], 3: [], 4: [78, 79]}\n",
            "\n",
            "\n",
            "Numbers = [82, 84, 86, 91]\n",
            "Number of distinct values = 20\n",
            "Most Significant Digit = 2\n",
            "Number of partitions decided :  4\n",
            "Partitions = {1: [], 2: [], 3: [], 4: []}\n",
            "Intervals = [(1, 80, 85), (2, 85, 90), (3, 90, 95), (4, 95, 100)]\n",
            "Partitions = {1: [82, 84], 2: [86], 3: [91], 4: []}\n",
            "\n"
          ],
          "name": "stdout"
        }
      ]
    },
    {
      "cell_type": "markdown",
      "metadata": {
        "id": "rmDHvtnI_RNl"
      },
      "source": [
        "### Final Answer"
      ]
    },
    {
      "cell_type": "code",
      "metadata": {
        "colab": {
          "base_uri": "https://localhost:8080/"
        },
        "id": "IE8RDxzr-m7I",
        "outputId": "5365d6c3-e941-4a10-fd17-763817f6cb99"
      },
      "source": [
        "print(\"---------------- FINAL PARTITIONS ----------------\")\n",
        "final_partitions"
      ],
      "execution_count": 47,
      "outputs": [
        {
          "output_type": "stream",
          "text": [
            "---------------- FINAL PARTITIONS ----------------\n"
          ],
          "name": "stdout"
        },
        {
          "output_type": "execute_result",
          "data": {
            "text/plain": [
              "{1: [],\n",
              " 2: [],\n",
              " 3: [],\n",
              " 4: [],\n",
              " 5: [22],\n",
              " 6: [],\n",
              " 7: [32, 33],\n",
              " 8: [37, 38],\n",
              " 9: [44],\n",
              " 10: [46, 48, 49],\n",
              " 11: [],\n",
              " 12: [],\n",
              " 13: [],\n",
              " 14: [66, 67, 69],\n",
              " 15: [],\n",
              " 16: [78, 79],\n",
              " 17: [82, 84],\n",
              " 18: [86],\n",
              " 19: [91],\n",
              " 20: []}"
            ]
          },
          "metadata": {
            "tags": []
          },
          "execution_count": 47
        }
      ]
    },
    {
      "cell_type": "markdown",
      "metadata": {
        "id": "HPEqfTtrBYwi"
      },
      "source": [
        "### Replacing original values with intervals"
      ]
    },
    {
      "cell_type": "code",
      "metadata": {
        "id": "a73xqFFl-5OR"
      },
      "source": [
        "X = sorted(X)\n",
        "new_X = []\n",
        "for key in final_partitions.keys():\n",
        "  for i in range(len(final_partitions[key])):\n",
        "    new_X.append(key)"
      ],
      "execution_count": 52,
      "outputs": []
    },
    {
      "cell_type": "code",
      "metadata": {
        "colab": {
          "base_uri": "https://localhost:8080/"
        },
        "id": "bFbFrEhP_bq0",
        "outputId": "2190b360-1924-4448-85b1-5b9615f1dce8"
      },
      "source": [
        "new_X"
      ],
      "execution_count": 53,
      "outputs": [
        {
          "output_type": "execute_result",
          "data": {
            "text/plain": [
              "[5, 7, 7, 8, 8, 9, 10, 10, 10, 14, 14, 14, 16, 16, 17, 17, 18, 19]"
            ]
          },
          "metadata": {
            "tags": []
          },
          "execution_count": 53
        }
      ]
    }
  ]
}