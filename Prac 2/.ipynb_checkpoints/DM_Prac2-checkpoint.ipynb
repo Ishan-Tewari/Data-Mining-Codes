{
 "cells": [
  {
   "cell_type": "markdown",
   "metadata": {
    "id": "G2e6mLTNmqjk"
   },
   "source": [
    "# Handling Missing Values in Dataset"
   ]
  },
  {
   "cell_type": "code",
   "execution_count": 1,
   "metadata": {
    "id": "K32LBjC4mFIw"
   },
   "outputs": [],
   "source": [
    "import pandas as pd\n",
    "import numpy as np"
   ]
  },
  {
   "cell_type": "markdown",
   "metadata": {
    "id": "Vjt26btvmnti"
   },
   "source": [
    "**To Nan**"
   ]
  },
  {
   "cell_type": "code",
   "execution_count": 86,
   "metadata": {
    "id": "rsxxA-Sfmm_f"
   },
   "outputs": [],
   "source": [
    "def to_nan(df):\n",
    "  df1 = df.copy()\n",
    "  df1['Values'] = df1['Values'].replace('?',np.nan) \n",
    "  return df1"
   ]
  },
  {
   "cell_type": "markdown",
   "metadata": {
    "id": "3bKE4PbUnoGD"
   },
   "source": [
    "**Removing Rows Entirely**"
   ]
  },
  {
   "cell_type": "code",
   "execution_count": 87,
   "metadata": {
    "id": "FpGZUMEWmxgD"
   },
   "outputs": [],
   "source": [
    "def remove_rows(df):\n",
    "  df1 = df.copy()\n",
    "  df1['Values'] = df1['Values'].replace('?',np.nan)\n",
    "  df1 = df1.dropna()\n",
    "  return df1"
   ]
  },
  {
   "cell_type": "markdown",
   "metadata": {
    "id": "SuKoHaHvoAXU"
   },
   "source": [
    "**Replacing by mean**"
   ]
  },
  {
   "cell_type": "code",
   "execution_count": 100,
   "metadata": {
    "id": "x-rzd59bn6sR"
   },
   "outputs": [],
   "source": [
    "def replace_by_mean(df):\n",
    "  df1 = df.copy()\n",
    "  df1 = to_nan(df)\n",
    "  df1 = df1.fillna(np.mean(np.array(remove_rows(df)['Values'],dtype=float)))\n",
    "  return df1"
   ]
  },
  {
   "cell_type": "code",
   "execution_count": 37,
   "metadata": {
    "colab": {
     "base_uri": "https://localhost:8080/",
     "height": 444
    },
    "id": "MC5pEzsOoZcE",
    "outputId": "a107ec8a-0344-471c-ab00-0b9930964eb9"
   },
   "outputs": [
    {
     "name": "stdout",
     "output_type": "stream",
     "text": [
      "Enter the number of elements: 10\n",
      "Enter the element names in comma separated manner: \n",
      "A,B,C,D,E,F,G,H,I,J\n",
      "Enter the values in comma separated manner: \n",
      "45,37,59,?,47,39,?,43,53,?\n"
     ]
    },
    {
     "data": {
      "text/html": [
       "<div>\n",
       "<style scoped>\n",
       "    .dataframe tbody tr th:only-of-type {\n",
       "        vertical-align: middle;\n",
       "    }\n",
       "\n",
       "    .dataframe tbody tr th {\n",
       "        vertical-align: top;\n",
       "    }\n",
       "\n",
       "    .dataframe thead th {\n",
       "        text-align: right;\n",
       "    }\n",
       "</style>\n",
       "<table border=\"1\" class=\"dataframe\">\n",
       "  <thead>\n",
       "    <tr style=\"text-align: right;\">\n",
       "      <th></th>\n",
       "      <th>Name</th>\n",
       "      <th>Values</th>\n",
       "    </tr>\n",
       "  </thead>\n",
       "  <tbody>\n",
       "    <tr>\n",
       "      <th>0</th>\n",
       "      <td>A</td>\n",
       "      <td>45</td>\n",
       "    </tr>\n",
       "    <tr>\n",
       "      <th>1</th>\n",
       "      <td>B</td>\n",
       "      <td>37</td>\n",
       "    </tr>\n",
       "    <tr>\n",
       "      <th>2</th>\n",
       "      <td>C</td>\n",
       "      <td>59</td>\n",
       "    </tr>\n",
       "    <tr>\n",
       "      <th>3</th>\n",
       "      <td>D</td>\n",
       "      <td>?</td>\n",
       "    </tr>\n",
       "    <tr>\n",
       "      <th>4</th>\n",
       "      <td>E</td>\n",
       "      <td>47</td>\n",
       "    </tr>\n",
       "    <tr>\n",
       "      <th>5</th>\n",
       "      <td>F</td>\n",
       "      <td>39</td>\n",
       "    </tr>\n",
       "    <tr>\n",
       "      <th>6</th>\n",
       "      <td>G</td>\n",
       "      <td>?</td>\n",
       "    </tr>\n",
       "    <tr>\n",
       "      <th>7</th>\n",
       "      <td>H</td>\n",
       "      <td>43</td>\n",
       "    </tr>\n",
       "    <tr>\n",
       "      <th>8</th>\n",
       "      <td>I</td>\n",
       "      <td>53</td>\n",
       "    </tr>\n",
       "    <tr>\n",
       "      <th>9</th>\n",
       "      <td>J</td>\n",
       "      <td>?</td>\n",
       "    </tr>\n",
       "  </tbody>\n",
       "</table>\n",
       "</div>"
      ],
      "text/plain": [
       "  Name Values\n",
       "0    A     45\n",
       "1    B     37\n",
       "2    C     59\n",
       "3    D      ?\n",
       "4    E     47\n",
       "5    F     39\n",
       "6    G      ?\n",
       "7    H     43\n",
       "8    I     53\n",
       "9    J      ?"
      ]
     },
     "execution_count": 37,
     "metadata": {
      "tags": []
     },
     "output_type": "execute_result"
    }
   ],
   "source": [
    "n = int(input('Enter the number of elements: '))\n",
    "\n",
    "print('Enter the element names in comma separated manner: ')\n",
    "names= input()\n",
    "X_names = names.split(',')\n",
    "\n",
    "print('Enter the values in comma separated manner: ')\n",
    "values = input()\n",
    "X_values = values.split(',')\n",
    "\n",
    "X = {'Name': X_names,\n",
    "     'Values': X_values}\n",
    "df = pd.DataFrame(X)\n",
    "df"
   ]
  },
  {
   "cell_type": "code",
   "execution_count": 109,
   "metadata": {
    "colab": {
     "base_uri": "https://localhost:8080/"
    },
    "id": "5AxYF0xbyPfg",
    "outputId": "d467257d-d3b3-4f37-8c00-2e4a2d7d04ff"
   },
   "outputs": [
    {
     "name": "stdout",
     "output_type": "stream",
     "text": [
      "-----------------------------MENU-----------------------------\n",
      "\t\t 1. Replace by NaN \n",
      "\t\t 2. Remove the rows \n",
      "\t\t 3. Replace by Mean \n",
      "\t\t 0. EXIT\n",
      "--------------------------------------------------------------\n",
      "Enter your choice: 1\n",
      "  Name Values\n",
      "0    A     45\n",
      "1    B     37\n",
      "2    C     59\n",
      "3    D    NaN\n",
      "4    E     47\n",
      "5    F     39\n",
      "6    G    NaN\n",
      "7    H     43\n",
      "8    I     53\n",
      "9    J    NaN\n",
      "-----------------------------MENU-----------------------------\n",
      "\t\t 1. Replace by NaN \n",
      "\t\t 2. Remove the rows \n",
      "\t\t 3. Replace by Mean \n",
      "\t\t 0. EXIT\n",
      "--------------------------------------------------------------\n",
      "Enter your choice: 2\n",
      "  Name Values\n",
      "0    A     45\n",
      "1    B     37\n",
      "2    C     59\n",
      "4    E     47\n",
      "5    F     39\n",
      "7    H     43\n",
      "8    I     53\n",
      "-----------------------------MENU-----------------------------\n",
      "\t\t 1. Replace by NaN \n",
      "\t\t 2. Remove the rows \n",
      "\t\t 3. Replace by Mean \n",
      "\t\t 0. EXIT\n",
      "--------------------------------------------------------------\n",
      "Enter your choice: 3\n",
      "  Name   Values\n",
      "0    A       45\n",
      "1    B       37\n",
      "2    C       59\n",
      "3    D  46.1429\n",
      "4    E       47\n",
      "5    F       39\n",
      "6    G  46.1429\n",
      "7    H       43\n",
      "8    I       53\n",
      "9    J  46.1429\n",
      "-----------------------------MENU-----------------------------\n",
      "\t\t 1. Replace by NaN \n",
      "\t\t 2. Remove the rows \n",
      "\t\t 3. Replace by Mean \n",
      "\t\t 0. EXIT\n",
      "--------------------------------------------------------------\n",
      "Enter your choice: 0\n"
     ]
    }
   ],
   "source": [
    "choice = int(1)\n",
    "\n",
    "choices = {1 : to_nan(df),\n",
    "           2 : remove_rows(df),\n",
    "           3 : replace_by_mean(df)}\n",
    "while choice != 0:\n",
    "  print(\"-----------------------------MENU-----------------------------\")\n",
    "  print(\"\\t\\t 1. Replace by NaN \")\n",
    "  print(\"\\t\\t 2. Remove the rows \")\n",
    "  print(\"\\t\\t 3. Replace by Mean \")\n",
    "  print(\"\\t\\t 0. EXIT\")\n",
    "  print(\"--------------------------------------------------------------\")\n",
    "  choice = int(input(\"Enter your choice: \"))\n",
    "  if choice == 0:\n",
    "    break\n",
    "  print(choices.get(choice))"
   ]
  },
  {
   "cell_type": "code",
   "execution_count": null,
   "metadata": {
    "id": "7J0kCCDczsJk"
   },
   "outputs": [],
   "source": []
  }
 ],
 "metadata": {
  "colab": {
   "name": "DM Prac2.ipynb",
   "provenance": []
  },
  "kernelspec": {
   "display_name": "Python 3",
   "language": "python",
   "name": "python3"
  },
  "language_info": {
   "codemirror_mode": {
    "name": "ipython",
    "version": 3
   },
   "file_extension": ".py",
   "mimetype": "text/x-python",
   "name": "python",
   "nbconvert_exporter": "python",
   "pygments_lexer": "ipython3",
   "version": "3.7.4"
  }
 },
 "nbformat": 4,
 "nbformat_minor": 1
}
