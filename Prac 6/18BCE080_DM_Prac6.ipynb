{
 "cells": [
  {
   "cell_type": "markdown",
   "metadata": {
    "id": "9vGtmXVuaPvZ"
   },
   "source": [
    "# 18BCE080 - Implement K-Means Algorithm to cluster the given points into three clusters."
   ]
  },
  {
   "cell_type": "markdown",
   "metadata": {
    "id": "3VFXxhG0aPvf"
   },
   "source": [
    "##Importing required libraries"
   ]
  },
  {
   "cell_type": "code",
   "execution_count": 16,
   "metadata": {
    "id": "SXIR_tnFaPvg"
   },
   "outputs": [],
   "source": [
    "import random\n",
    "import matplotlib.pyplot as plt\n",
    "from sklearn.cluster import KMeans\n",
    "import pandas as pd\n",
    "import itertools\n",
    "import sys\n",
    "plt.style.use('seaborn')"
   ]
  },
  {
   "cell_type": "markdown",
   "metadata": {
    "id": "M_7sfgGAaPvg"
   },
   "source": [
    "## Adding the data points"
   ]
  },
  {
   "cell_type": "code",
   "execution_count": 17,
   "metadata": {
    "id": "DzksYEwpaPvg"
   },
   "outputs": [],
   "source": [
    "class point:\n",
    "    def __init__(self, x, y):\n",
    "        self.x = x\n",
    "        self.y = y"
   ]
  },
  {
   "cell_type": "code",
   "execution_count": 24,
   "metadata": {
    "colab": {
     "base_uri": "https://localhost:8080/"
    },
    "id": "u-DbpgnUaPvh",
    "outputId": "302cfd51-2c75-498c-e59c-f389ee2542af"
   },
   "outputs": [
    {
     "name": "stdout",
     "output_type": "stream",
     "text": [
      "Number of points:  8\n",
      "Points: \n",
      "(2, 10)\n",
      "(2, 5)\n",
      "(8, 4)\n",
      "(5, 8)\n",
      "(7, 5)\n",
      "(6, 4)\n",
      "(1, 2)\n",
      "(4, 9)\n"
     ]
    }
   ],
   "source": [
    "num_points = 8\n",
    "data_points = []\n",
    "data_points.append(point(2, 10))\n",
    "data_points.append(point(2, 5))\n",
    "data_points.append(point(8, 4))\n",
    "data_points.append(point(5, 8))\n",
    "data_points.append(point(7, 5))\n",
    "data_points.append(point(6, 4))\n",
    "data_points.append(point(1, 2))\n",
    "data_points.append(point(4, 9))\n",
    "\n",
    "\n",
    "print(\"Number of points: \", num_points)\n",
    "print(\"Points: \")\n",
    "for i in data_points:\n",
    "    print(\"({}, {})\".format(i.x, i.y))"
   ]
  },
  {
   "cell_type": "markdown",
   "metadata": {
    "id": "Z8XIxJz1aPvi"
   },
   "source": [
    "## Visualizing data points"
   ]
  },
  {
   "cell_type": "code",
   "execution_count": 26,
   "metadata": {
    "colab": {
     "base_uri": "https://localhost:8080/",
     "height": 347
    },
    "id": "_1nnHUWuaPvi",
    "outputId": "71873bea-3aa6-453f-fc0b-9526e8b81e50"
   },
   "outputs": [
    {
     "data": {
      "image/png": "[encoded data removed]",
      "text/plain": [
       "<Figure size 576x396 with 1 Axes>"
      ]
     },
     "metadata": {
      "tags": []
     },
     "output_type": "display_data"
    }
   ],
   "source": [
    "xa = []\n",
    "ya = []\n",
    "\n",
    "for i in data_points:\n",
    "    xa.append(i.x)\n",
    "    ya.append(i.y)\n",
    "\n",
    "plt.scatter(xa, ya)\n",
    "\n",
    "d = []\n",
    "for i in range(num_points):\n",
    "    d.append([xa[i], ya[i]])"
   ]
  },
  {
   "cell_type": "markdown",
   "metadata": {
    "id": "xvGkNDHzaPvj"
   },
   "source": [
    "## Finding value of K using elbow method"
   ]
  },
  {
   "cell_type": "code",
   "execution_count": 27,
   "metadata": {
    "colab": {
     "base_uri": "https://localhost:8080/",
     "height": 376
    },
    "id": "tb10_fbRaPvj",
    "outputId": "ecd37534-473e-4815-8b9e-590d59e6d9e8"
   },
   "outputs": [
    {
     "data": {
      "image/png": "[encoded data removed]",
      "text/plain": [
       "<Figure size 576x396 with 1 Axes>"
      ]
     },
     "metadata": {
      "tags": []
     },
     "output_type": "display_data"
    }
   ],
   "source": [
    "Sum_of_squared_distances = []\n",
    "\n",
    "for k in range(1, num_points + 1):\n",
    "    km = KMeans(n_clusters=k)\n",
    "    km = km.fit(d)\n",
    "    Sum_of_squared_distances.append(km.inertia_)\n",
    "\n",
    "plt.plot(range(1, num_points + 1), Sum_of_squared_distances, 'bx-')\n",
    "plt.xlabel('k')\n",
    "plt.ylabel('Sum_of_squared_distances')\n",
    "plt.title('Elbow Method For Optimal k')\n",
    "plt.show()"
   ]
  },
  {
   "cell_type": "markdown",
   "metadata": {
    "id": "fVD9raLhaPvj"
   },
   "source": [
    "## Assigning initial cluster centers"
   ]
  },
  {
   "cell_type": "code",
   "execution_count": 28,
   "metadata": {
    "colab": {
     "base_uri": "https://localhost:8080/"
    },
    "id": "I1Ancs5zaPvj",
    "outputId": "ce3df18f-cbc6-4b1a-aef1-b66a2fd330ae"
   },
   "outputs": [
    {
     "name": "stdout",
     "output_type": "stream",
     "text": [
      "Cluster 0 has center (2, 10)\n",
      "Cluster 1 has center (5, 8)\n",
      "Cluster 2 has center (1, 2)\n"
     ]
    }
   ],
   "source": [
    "\n",
    "centers = [data_points[0], data_points[3], data_points[6]]\n",
    "num_clusters = 3\n",
    "\n",
    "clusters = {}\n",
    "for i in range(num_clusters):\n",
    "    clusters[i] = [centers[i]]\n",
    "    print(\"Cluster {} has center ({}, {})\".format(i, centers[i].x, centers[i].y))"
   ]
  },
  {
   "cell_type": "markdown",
   "metadata": {
    "id": "3-sJTzHahVXy"
   },
   "source": [
    "## Defining various distance metrics"
   ]
  },
  {
   "cell_type": "code",
   "execution_count": 29,
   "metadata": {
    "id": "QC-adpvHhUre"
   },
   "outputs": [],
   "source": [
    "def euclidean_dist(pointa, pointb):\n",
    "    dist_x = (pointa.x - pointb.x) ** 2\n",
    "    dist_y = (pointa.y - pointb.y) ** 2\n",
    "    return (dist_x + dist_y) ** 0.5\n",
    "\n",
    "\n",
    "def manhattan_dist(pointa, pointb):\n",
    "    dist_x = abs(pointa.x - pointb.x)\n",
    "    dist_y = abs(pointa.y - pointb.y)\n",
    "    return (dist_x + dist_y)\n",
    "\n",
    "\n",
    "def supremum_dist(pointa, pointb):\n",
    "    dist_x = abs(pointa.x - pointb.x)\n",
    "    dist_y = abs(pointa.y - pointb.y)\n",
    "    if dist_y > dist_x:\n",
    "        return dist_y\n",
    "    else:\n",
    "        return dist_x\n",
    "\n",
    "\n",
    "def new_center(cluster):\n",
    "    nx, ny = 0, 0\n",
    "    for i in cluster:\n",
    "        nx += i.x\n",
    "        ny += i.y\n",
    "    a = point(nx / len(cluster), ny / len(cluster))\n",
    "    return a"
   ]
  },
  {
   "cell_type": "markdown",
   "metadata": {
    "id": "nPNCCJW0aPvk"
   },
   "source": [
    "## Performing K-Means for 2 iterations"
   ]
  },
  {
   "cell_type": "code",
   "execution_count": 30,
   "metadata": {
    "colab": {
     "base_uri": "https://localhost:8080/"
    },
    "id": "k2t92KpaaPvk",
    "outputId": "217985c3-ede9-47c9-8e06-cca3026d09cd"
   },
   "outputs": [
    {
     "name": "stdout",
     "output_type": "stream",
     "text": [
      "Select : \n",
      "1.Euclidean Distance\n",
      "2.Manhattan Distance\n",
      "3.supremum Distance\n",
      "1\n",
      "\n",
      "\n",
      "\t\t\tIteration 1\n",
      "\n",
      "\n",
      "--------------------------------------------------\n",
      "Point being considered is : (2, 10)\n",
      "The point is assigned to cluster 0\n",
      "The clusters have now become : \n",
      "Cluster  0\n",
      "Points : \n",
      "(2, 10)\n",
      "Center : (2.0, 10.0)\n",
      "\n",
      "Cluster  1\n",
      "Points : \n",
      "(5, 8)\n",
      "Center : (5.0, 8.0)\n",
      "\n",
      "Cluster  2\n",
      "Points : \n",
      "(1, 2)\n",
      "Center : (1.0, 2.0)\n",
      "\n",
      "--------------------------------------------------\n",
      "Point being considered is : (2, 5)\n",
      "The point is assigned to cluster 2\n",
      "The clusters have now become : \n",
      "Cluster  0\n",
      "Points : \n",
      "(2, 10)\n",
      "Center : (2.0, 10.0)\n",
      "\n",
      "Cluster  1\n",
      "Points : \n",
      "(5, 8)\n",
      "Center : (5.0, 8.0)\n",
      "\n",
      "Cluster  2\n",
      "Points : \n",
      "(1, 2)\n",
      "(2, 5)\n",
      "Center : (1.5, 3.5)\n",
      "\n",
      "--------------------------------------------------\n",
      "Point being considered is : (8, 4)\n",
      "The point is assigned to cluster 1\n",
      "The clusters have now become : \n",
      "Cluster  0\n",
      "Points : \n",
      "(2, 10)\n",
      "Center : (2.0, 10.0)\n",
      "\n",
      "Cluster  1\n",
      "Points : \n",
      "(5, 8)\n",
      "(8, 4)\n",
      "Center : (6.5, 6.0)\n",
      "\n",
      "Cluster  2\n",
      "Points : \n",
      "(1, 2)\n",
      "(2, 5)\n",
      "Center : (1.5, 3.5)\n",
      "\n",
      "--------------------------------------------------\n",
      "Point being considered is : (5, 8)\n",
      "The point is assigned to cluster 1\n",
      "The clusters have now become : \n",
      "Cluster  0\n",
      "Points : \n",
      "(2, 10)\n",
      "Center : (2.0, 10.0)\n",
      "\n",
      "Cluster  1\n",
      "Points : \n",
      "(5, 8)\n",
      "(8, 4)\n",
      "Center : (6.5, 6.0)\n",
      "\n",
      "Cluster  2\n",
      "Points : \n",
      "(1, 2)\n",
      "(2, 5)\n",
      "Center : (1.5, 3.5)\n",
      "\n",
      "--------------------------------------------------\n",
      "Point being considered is : (7, 5)\n",
      "The point is assigned to cluster 1\n",
      "The clusters have now become : \n",
      "Cluster  0\n",
      "Points : \n",
      "(2, 10)\n",
      "Center : (2.0, 10.0)\n",
      "\n",
      "Cluster  1\n",
      "Points : \n",
      "(5, 8)\n",
      "(8, 4)\n",
      "(7, 5)\n",
      "Center : (6.666666666666667, 5.666666666666667)\n",
      "\n",
      "Cluster  2\n",
      "Points : \n",
      "(1, 2)\n",
      "(2, 5)\n",
      "Center : (1.5, 3.5)\n",
      "\n",
      "--------------------------------------------------\n",
      "Point being considered is : (6, 4)\n",
      "The point is assigned to cluster 1\n",
      "The clusters have now become : \n",
      "Cluster  0\n",
      "Points : \n",
      "(2, 10)\n",
      "Center : (2.0, 10.0)\n",
      "\n",
      "Cluster  1\n",
      "Points : \n",
      "(5, 8)\n",
      "(8, 4)\n",
      "(7, 5)\n",
      "(6, 4)\n",
      "Center : (6.5, 5.25)\n",
      "\n",
      "Cluster  2\n",
      "Points : \n",
      "(1, 2)\n",
      "(2, 5)\n",
      "Center : (1.5, 3.5)\n",
      "\n",
      "--------------------------------------------------\n",
      "Point being considered is : (1, 2)\n",
      "The point is assigned to cluster 2\n",
      "The clusters have now become : \n",
      "Cluster  0\n",
      "Points : \n",
      "(2, 10)\n",
      "Center : (2.0, 10.0)\n",
      "\n",
      "Cluster  1\n",
      "Points : \n",
      "(5, 8)\n",
      "(8, 4)\n",
      "(7, 5)\n",
      "(6, 4)\n",
      "Center : (6.5, 5.25)\n",
      "\n",
      "Cluster  2\n",
      "Points : \n",
      "(1, 2)\n",
      "(2, 5)\n",
      "Center : (1.5, 3.5)\n",
      "\n",
      "--------------------------------------------------\n",
      "Point being considered is : (4, 9)\n",
      "The point is assigned to cluster 0\n",
      "The clusters have now become : \n",
      "Cluster  0\n",
      "Points : \n",
      "(2, 10)\n",
      "(4, 9)\n",
      "Center : (3.0, 9.5)\n",
      "\n",
      "Cluster  1\n",
      "Points : \n",
      "(5, 8)\n",
      "(8, 4)\n",
      "(7, 5)\n",
      "(6, 4)\n",
      "Center : (6.5, 5.25)\n",
      "\n",
      "Cluster  2\n",
      "Points : \n",
      "(1, 2)\n",
      "(2, 5)\n",
      "Center : (1.5, 3.5)\n",
      "\n",
      "\n",
      "\n",
      "\t\t\tIteration 2\n",
      "\n",
      "\n",
      "--------------------------------------------------\n",
      "Point being considered is : (2, 10)\n",
      "The point is assigned to cluster 0\n",
      "The clusters have now become : \n",
      "Cluster  0\n",
      "Points : \n",
      "(2, 10)\n",
      "(4, 9)\n",
      "Center : (3.0, 9.5)\n",
      "\n",
      "Cluster  1\n",
      "Points : \n",
      "(5, 8)\n",
      "(8, 4)\n",
      "(7, 5)\n",
      "(6, 4)\n",
      "Center : (6.5, 5.25)\n",
      "\n",
      "Cluster  2\n",
      "Points : \n",
      "(1, 2)\n",
      "(2, 5)\n",
      "Center : (1.5, 3.5)\n",
      "\n",
      "--------------------------------------------------\n",
      "Point being considered is : (2, 5)\n",
      "The point is assigned to cluster 2\n",
      "The clusters have now become : \n",
      "Cluster  0\n",
      "Points : \n",
      "(2, 10)\n",
      "(4, 9)\n",
      "Center : (3.0, 9.5)\n",
      "\n",
      "Cluster  1\n",
      "Points : \n",
      "(5, 8)\n",
      "(8, 4)\n",
      "(7, 5)\n",
      "(6, 4)\n",
      "Center : (6.5, 5.25)\n",
      "\n",
      "Cluster  2\n",
      "Points : \n",
      "(1, 2)\n",
      "(2, 5)\n",
      "Center : (1.5, 3.5)\n",
      "\n",
      "--------------------------------------------------\n",
      "Point being considered is : (8, 4)\n",
      "The point is assigned to cluster 1\n",
      "The clusters have now become : \n",
      "Cluster  0\n",
      "Points : \n",
      "(2, 10)\n",
      "(4, 9)\n",
      "Center : (3.0, 9.5)\n",
      "\n",
      "Cluster  1\n",
      "Points : \n",
      "(5, 8)\n",
      "(8, 4)\n",
      "(7, 5)\n",
      "(6, 4)\n",
      "Center : (6.5, 5.25)\n",
      "\n",
      "Cluster  2\n",
      "Points : \n",
      "(1, 2)\n",
      "(2, 5)\n",
      "Center : (1.5, 3.5)\n",
      "\n",
      "--------------------------------------------------\n",
      "Point being considered is : (5, 8)\n",
      "The point is assigned to cluster 0\n",
      "The clusters have now become : \n",
      "Cluster  0\n",
      "Points : \n",
      "(2, 10)\n",
      "(4, 9)\n",
      "(5, 8)\n",
      "Center : (3.6666666666666665, 9.0)\n",
      "\n",
      "Cluster  1\n",
      "Points : \n",
      "(8, 4)\n",
      "(7, 5)\n",
      "(6, 4)\n",
      "Center : (7.0, 4.333333333333333)\n",
      "\n",
      "Cluster  2\n",
      "Points : \n",
      "(1, 2)\n",
      "(2, 5)\n",
      "Center : (1.5, 3.5)\n",
      "\n",
      "--------------------------------------------------\n",
      "Point being considered is : (7, 5)\n",
      "The point is assigned to cluster 1\n",
      "The clusters have now become : \n",
      "Cluster  0\n",
      "Points : \n",
      "(2, 10)\n",
      "(4, 9)\n",
      "(5, 8)\n",
      "Center : (3.6666666666666665, 9.0)\n",
      "\n",
      "Cluster  1\n",
      "Points : \n",
      "(8, 4)\n",
      "(7, 5)\n",
      "(6, 4)\n",
      "Center : (7.0, 4.333333333333333)\n",
      "\n",
      "Cluster  2\n",
      "Points : \n",
      "(1, 2)\n",
      "(2, 5)\n",
      "Center : (1.5, 3.5)\n",
      "\n",
      "--------------------------------------------------\n",
      "Point being considered is : (6, 4)\n",
      "The point is assigned to cluster 1\n",
      "The clusters have now become : \n",
      "Cluster  0\n",
      "Points : \n",
      "(2, 10)\n",
      "(4, 9)\n",
      "(5, 8)\n",
      "Center : (3.6666666666666665, 9.0)\n",
      "\n",
      "Cluster  1\n",
      "Points : \n",
      "(8, 4)\n",
      "(7, 5)\n",
      "(6, 4)\n",
      "Center : (7.0, 4.333333333333333)\n",
      "\n",
      "Cluster  2\n",
      "Points : \n",
      "(1, 2)\n",
      "(2, 5)\n",
      "Center : (1.5, 3.5)\n",
      "\n",
      "--------------------------------------------------\n",
      "Point being considered is : (1, 2)\n",
      "The point is assigned to cluster 2\n",
      "The clusters have now become : \n",
      "Cluster  0\n",
      "Points : \n",
      "(2, 10)\n",
      "(4, 9)\n",
      "(5, 8)\n",
      "Center : (3.6666666666666665, 9.0)\n",
      "\n",
      "Cluster  1\n",
      "Points : \n",
      "(8, 4)\n",
      "(7, 5)\n",
      "(6, 4)\n",
      "Center : (7.0, 4.333333333333333)\n",
      "\n",
      "Cluster  2\n",
      "Points : \n",
      "(1, 2)\n",
      "(2, 5)\n",
      "Center : (1.5, 3.5)\n",
      "\n",
      "--------------------------------------------------\n",
      "Point being considered is : (4, 9)\n",
      "The point is assigned to cluster 0\n",
      "The clusters have now become : \n",
      "Cluster  0\n",
      "Points : \n",
      "(2, 10)\n",
      "(4, 9)\n",
      "(5, 8)\n",
      "Center : (3.6666666666666665, 9.0)\n",
      "\n",
      "Cluster  1\n",
      "Points : \n",
      "(8, 4)\n",
      "(7, 5)\n",
      "(6, 4)\n",
      "Center : (7.0, 4.333333333333333)\n",
      "\n",
      "Cluster  2\n",
      "Points : \n",
      "(1, 2)\n",
      "(2, 5)\n",
      "Center : (1.5, 3.5)\n",
      "\n"
     ]
    }
   ],
   "source": [
    "dist_choice = int(input(\"Select : \\n1.Euclidean Distance\\n2.Manhattan Distance\\n3.supremum Distance\\n\"))\n",
    "if dist_choice == 1:\n",
    "    dist_choice = \"euclidean_dist\"\n",
    "elif dist_choice == 2:\n",
    "    dist_choice = \"manhattan_dist\"\n",
    "elif dist_choice == 3:\n",
    "    dist_choice = \"supremum_dist\"\n",
    "\n",
    "for j in range(1, 3):\n",
    "    print(\"\\n\\n\\t\\t\\tIteration {}\\n\\n\".format(j))\n",
    "    \n",
    "    for i in data_points:\n",
    "        print(\"-\"*50)\n",
    "        print(\"Point being considered is : ({}, {})\".format(i.x, i.y))\n",
    "        e_dists = []\n",
    "        \n",
    "        [e_dists.append(eval(dist_choice + \"(i, centers[iter1])\")) for iter1 in range(num_clusters)]\n",
    "        \n",
    "        minpos = e_dists.index(min(e_dists))\n",
    "        print(\"The point is assigned to cluster {}\".format(minpos))\n",
    "        \n",
    "        for iter2 in range(num_clusters):\n",
    "            if iter2 == minpos:\n",
    "                if i not in clusters[iter2]:\n",
    "                    clusters[minpos].append(i)\n",
    "            elif i in clusters[iter2]:\n",
    "                clusters[iter2].remove(i)\n",
    "                \n",
    "        for iter3 in range(num_clusters):\n",
    "            centers[iter3] = new_center(clusters[iter3])\n",
    "        print(\"The clusters have now become : \")\n",
    "        \n",
    "        for key, val in clusters.items():\n",
    "            print(\"Cluster \", key)\n",
    "            print(\"Points : \")\n",
    "            for i in val:\n",
    "                print(\"({}, {})\".format(i.x, i.y))\n",
    "            print(\"Center : ({}, {})\\n\".format(centers[key].x, centers[key].y))"
   ]
  },
  {
   "cell_type": "markdown",
   "metadata": {
    "id": "13CVMnJAaPvl"
   },
   "source": [
    "## Visualizing final clusters"
   ]
  },
  {
   "cell_type": "code",
   "execution_count": 31,
   "metadata": {
    "colab": {
     "base_uri": "https://localhost:8080/",
     "height": 415
    },
    "id": "ik0jDLz9aPvl",
    "outputId": "5758f054-58ad-4e68-bbe7-ae789ff09397"
   },
   "outputs": [
    {
     "data": {
      "image/png": "[encoded data removed]",
      "text/plain": [
       "<Figure size 576x396 with 1 Axes>"
      ]
     },
     "metadata": {
      "tags": []
     },
     "output_type": "display_data"
    },
    {
     "name": "stdout",
     "output_type": "stream",
     "text": [
      "Final Centers : \n",
      "Cluster 0 : (3.6666666666666665, 9.0)\n",
      "Cluster 1 : (7.0, 4.333333333333333)\n",
      "Cluster 2 : (1.5, 3.5)\n"
     ]
    }
   ],
   "source": [
    "def fetch_xy(i):\n",
    "    x, y = [], []\n",
    "    for a in clusters[i]:\n",
    "        x.append(a.x)\n",
    "        y.append(a.y)\n",
    "    return x, y\n",
    "\n",
    "\n",
    "colors = itertools.cycle(['r', 'b', 'g', 'y', 'c', 'm', 'k'])\n",
    "for i in range(num_clusters):\n",
    "    x, y = fetch_xy(i)\n",
    "    c = next(colors)\n",
    "    plt.scatter(x, y, c=c, label='Cluster {}'.format(i))\n",
    "    plt.plot(centers[i].x, centers[i].y, marker='x', c=c)\n",
    "\n",
    "for i in range(num_points):\n",
    "    plt.annotate('({}, {})'.format(xa[i], ya[i]), xy=(xa[i], ya[i]))\n",
    "\n",
    "plt.legend(loc='center left', bbox_to_anchor=(1, 0.5))\n",
    "plt.show()\n",
    "\n",
    "print(\"Final Centers : \")\n",
    "for i in range(num_clusters):\n",
    "    print(\"Cluster {} : ({}, {})\".format(i, centers[i].x, centers[i].y))"
   ]
  },
  {
   "cell_type": "code",
   "execution_count": null,
   "metadata": {
    "id": "xs1VbHUGgz2j"
   },
   "outputs": [],
   "source": [
    "import pdfcrowd\n",
    "\n",
    "api = pdfcrowd.HtmlToPdfClient(\"demo\", \"ce544b6ea52a5621fb9d55f8b542d14d\")\n",
    "api.convertUrlToFile('https://example.com', 'example.pdf')"
   ]
  }
 ],
 "metadata": {
  "colab": {
   "name": "18BCE080_DM_Prac6.ipynb",
   "provenance": []
  },
  "kernelspec": {
   "display_name": "Python 3",
   "language": "python",
   "name": "python3"
  },
  "language_info": {
   "codemirror_mode": {
    "name": "ipython",
    "version": 3
   },
   "file_extension": ".py",
   "mimetype": "text/x-python",
   "name": "python",
   "nbconvert_exporter": "python",
   "pygments_lexer": "ipython3",
   "version": "3.7.4"
  }
 },
 "nbformat": 4,
 "nbformat_minor": 1
}
