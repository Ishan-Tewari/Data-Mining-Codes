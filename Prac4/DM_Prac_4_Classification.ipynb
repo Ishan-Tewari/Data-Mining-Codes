{
  "nbformat": 4,
  "nbformat_minor": 0,
  "metadata": {
    "colab": {
      "name": "DM Prac 4 Classification.ipynb",
      "provenance": []
    },
    "kernelspec": {
      "name": "python3",
      "display_name": "Python 3"
    }
  },
  "cells": [
    {
      "cell_type": "markdown",
      "metadata": {
        "id": "66lVZCQPkeKD"
      },
      "source": [
        "# Classification using Decision Tree"
      ]
    },
    {
      "cell_type": "markdown",
      "metadata": {
        "id": "E2L-u3TLkjXC"
      },
      "source": [
        "**Importing necessary libraries**"
      ]
    },
    {
      "cell_type": "code",
      "metadata": {
        "id": "8gEyQZGbkNga"
      },
      "source": [
        "import pandas as pd\n",
        "import numpy as np\n",
        "from sklearn import tree"
      ],
      "execution_count": null,
      "outputs": []
    },
    {
      "cell_type": "code",
      "metadata": {
        "id": "ThRX-1uilZz3",
        "colab": {
          "base_uri": "https://localhost:8080/",
          "height": 204
        },
        "outputId": "1fc9e975-564e-4d66-d17e-c213528b9542"
      },
      "source": [
        "df = pd.read_csv(\"input.csv\")\n",
        "df.head()"
      ],
      "execution_count": 2,
      "outputs": [
        {
          "output_type": "execute_result",
          "data": {
            "text/html": [
              "<div>\n",
              "<style scoped>\n",
              "    .dataframe tbody tr th:only-of-type {\n",
              "        vertical-align: middle;\n",
              "    }\n",
              "\n",
              "    .dataframe tbody tr th {\n",
              "        vertical-align: top;\n",
              "    }\n",
              "\n",
              "    .dataframe thead th {\n",
              "        text-align: right;\n",
              "    }\n",
              "</style>\n",
              "<table border=\"1\" class=\"dataframe\">\n",
              "  <thead>\n",
              "    <tr style=\"text-align: right;\">\n",
              "      <th></th>\n",
              "      <th>ID</th>\n",
              "      <th>Age</th>\n",
              "      <th>Income</th>\n",
              "      <th>Student</th>\n",
              "      <th>Credit Rating</th>\n",
              "      <th>Buy Car</th>\n",
              "    </tr>\n",
              "  </thead>\n",
              "  <tbody>\n",
              "    <tr>\n",
              "      <th>0</th>\n",
              "      <td>1</td>\n",
              "      <td>Young</td>\n",
              "      <td>High</td>\n",
              "      <td>No</td>\n",
              "      <td>Fair</td>\n",
              "      <td>No</td>\n",
              "    </tr>\n",
              "    <tr>\n",
              "      <th>1</th>\n",
              "      <td>2</td>\n",
              "      <td>Young</td>\n",
              "      <td>High</td>\n",
              "      <td>No</td>\n",
              "      <td>Good</td>\n",
              "      <td>No</td>\n",
              "    </tr>\n",
              "    <tr>\n",
              "      <th>2</th>\n",
              "      <td>3</td>\n",
              "      <td>Middle</td>\n",
              "      <td>High</td>\n",
              "      <td>No</td>\n",
              "      <td>Fair</td>\n",
              "      <td>Yes</td>\n",
              "    </tr>\n",
              "    <tr>\n",
              "      <th>3</th>\n",
              "      <td>4</td>\n",
              "      <td>Old</td>\n",
              "      <td>Medium</td>\n",
              "      <td>No</td>\n",
              "      <td>Fair</td>\n",
              "      <td>Yes</td>\n",
              "    </tr>\n",
              "    <tr>\n",
              "      <th>4</th>\n",
              "      <td>5</td>\n",
              "      <td>Old</td>\n",
              "      <td>Low</td>\n",
              "      <td>Yes</td>\n",
              "      <td>Fair</td>\n",
              "      <td>Yes</td>\n",
              "    </tr>\n",
              "  </tbody>\n",
              "</table>\n",
              "</div>"
            ],
            "text/plain": [
              "   ID     Age  Income Student Credit Rating Buy Car\n",
              "0   1   Young    High      No          Fair      No\n",
              "1   2   Young    High      No          Good      No\n",
              "2   3  Middle    High      No          Fair     Yes\n",
              "3   4     Old  Medium      No          Fair     Yes\n",
              "4   5     Old     Low     Yes          Fair     Yes"
            ]
          },
          "metadata": {
            "tags": []
          },
          "execution_count": 2
        }
      ]
    },
    {
      "cell_type": "markdown",
      "metadata": {
        "id": "ezWX6rQkqtGH"
      },
      "source": [
        "### Converting to numerical data"
      ]
    },
    {
      "cell_type": "code",
      "metadata": {
        "id": "Pi8zNncuoRfB"
      },
      "source": [
        "age = df['Age'].factorize();\n",
        "income = df['Income'].factorize();\n",
        "student = df['Student'].factorize();\n",
        "credit_rating = df['Credit Rating'].factorize();\n",
        "buy_car = df['Buy Car'].factorize();"
      ],
      "execution_count": 6,
      "outputs": []
    },
    {
      "cell_type": "code",
      "metadata": {
        "colab": {
          "base_uri": "https://localhost:8080/",
          "height": 204
        },
        "id": "lOVfSMRkoYTP",
        "outputId": "3f117f00-9933-4029-f564-b6fe6c4a8097"
      },
      "source": [
        "factorized_data = {'Age':age[0], 'Income':income[0], 'Student':student[0], 'Credit Rating':credit_rating[0], 'Buy Car':buy_car[0]}\n",
        "\n",
        "df1 = pd.DataFrame(factorized_data)\n",
        "df1.head()"
      ],
      "execution_count": 17,
      "outputs": [
        {
          "output_type": "execute_result",
          "data": {
            "text/html": [
              "<div>\n",
              "<style scoped>\n",
              "    .dataframe tbody tr th:only-of-type {\n",
              "        vertical-align: middle;\n",
              "    }\n",
              "\n",
              "    .dataframe tbody tr th {\n",
              "        vertical-align: top;\n",
              "    }\n",
              "\n",
              "    .dataframe thead th {\n",
              "        text-align: right;\n",
              "    }\n",
              "</style>\n",
              "<table border=\"1\" class=\"dataframe\">\n",
              "  <thead>\n",
              "    <tr style=\"text-align: right;\">\n",
              "      <th></th>\n",
              "      <th>Age</th>\n",
              "      <th>Income</th>\n",
              "      <th>Student</th>\n",
              "      <th>Credit Rating</th>\n",
              "      <th>Buy Car</th>\n",
              "    </tr>\n",
              "  </thead>\n",
              "  <tbody>\n",
              "    <tr>\n",
              "      <th>0</th>\n",
              "      <td>0</td>\n",
              "      <td>0</td>\n",
              "      <td>0</td>\n",
              "      <td>0</td>\n",
              "      <td>0</td>\n",
              "    </tr>\n",
              "    <tr>\n",
              "      <th>1</th>\n",
              "      <td>0</td>\n",
              "      <td>0</td>\n",
              "      <td>0</td>\n",
              "      <td>1</td>\n",
              "      <td>0</td>\n",
              "    </tr>\n",
              "    <tr>\n",
              "      <th>2</th>\n",
              "      <td>1</td>\n",
              "      <td>0</td>\n",
              "      <td>0</td>\n",
              "      <td>0</td>\n",
              "      <td>1</td>\n",
              "    </tr>\n",
              "    <tr>\n",
              "      <th>3</th>\n",
              "      <td>2</td>\n",
              "      <td>1</td>\n",
              "      <td>0</td>\n",
              "      <td>0</td>\n",
              "      <td>1</td>\n",
              "    </tr>\n",
              "    <tr>\n",
              "      <th>4</th>\n",
              "      <td>2</td>\n",
              "      <td>2</td>\n",
              "      <td>1</td>\n",
              "      <td>0</td>\n",
              "      <td>1</td>\n",
              "    </tr>\n",
              "  </tbody>\n",
              "</table>\n",
              "</div>"
            ],
            "text/plain": [
              "   Age  Income  Student  Credit Rating  Buy Car\n",
              "0    0       0        0              0        0\n",
              "1    0       0        0              1        0\n",
              "2    1       0        0              0        1\n",
              "3    2       1        0              0        1\n",
              "4    2       2        1              0        1"
            ]
          },
          "metadata": {
            "tags": []
          },
          "execution_count": 17
        }
      ]
    },
    {
      "cell_type": "markdown",
      "metadata": {
        "id": "M06I9HvOqzks"
      },
      "source": [
        "### Dividing the data into training set and testing set"
      ]
    },
    {
      "cell_type": "code",
      "metadata": {
        "id": "5Hzt999wqQcX"
      },
      "source": [
        "X = df1[['Age','Income','Student','Credit Rating']]\n",
        "y = df1['Buy Car']"
      ],
      "execution_count": 18,
      "outputs": []
    },
    {
      "cell_type": "code",
      "metadata": {
        "colab": {
          "base_uri": "https://localhost:8080/"
        },
        "id": "vkb4rxLJrAsV",
        "outputId": "b15c268a-b136-41ca-fb5a-1004b1193b7c"
      },
      "source": [
        "from sklearn.model_selection import train_test_split\n",
        "X_train,X_test,y_train,y_test = train_test_split(X,y,test_size = 0.2, random_state=1)\n",
        "\n",
        "print(X_train.shape)\n",
        "print(y_train.shape)\n",
        "\n",
        "print(X_test.shape)\n",
        "print(y_test.shape)"
      ],
      "execution_count": 30,
      "outputs": [
        {
          "output_type": "stream",
          "text": [
            "(11, 4)\n",
            "(11,)\n",
            "(3, 4)\n",
            "(3,)\n"
          ],
          "name": "stdout"
        }
      ]
    },
    {
      "cell_type": "markdown",
      "metadata": {
        "id": "VXUovucpsD8a"
      },
      "source": [
        "### Training Classifier"
      ]
    },
    {
      "cell_type": "code",
      "metadata": {
        "id": "V6cTgGnipI1j"
      },
      "source": [
        "clf = tree.DecisionTreeClassifier(criterion='entropy',max_depth=3, random_state=1)"
      ],
      "execution_count": 31,
      "outputs": []
    },
    {
      "cell_type": "code",
      "metadata": {
        "colab": {
          "base_uri": "https://localhost:8080/"
        },
        "id": "pMnG4czRpvxm",
        "outputId": "f3d6b800-b9d9-4d06-8e95-eb67402fcc4d"
      },
      "source": [
        "clf.fit(X_train,y_train)\n",
        "prediction = clf.predict(X_test)\n",
        "\n",
        "prediction"
      ],
      "execution_count": 32,
      "outputs": [
        {
          "output_type": "execute_result",
          "data": {
            "text/plain": [
              "array([1, 0, 1])"
            ]
          },
          "metadata": {
            "tags": []
          },
          "execution_count": 32
        }
      ]
    },
    {
      "cell_type": "markdown",
      "metadata": {
        "id": "keRRTzjmu0sL"
      },
      "source": [
        "### Testing our classifier"
      ]
    },
    {
      "cell_type": "code",
      "metadata": {
        "colab": {
          "base_uri": "https://localhost:8080/"
        },
        "id": "OxmtYKS8sTdD",
        "outputId": "00599253-cf5c-4a2b-f2e8-41453eecbaf8"
      },
      "source": [
        "from sklearn import metrics\n",
        "print(\"Accuracy = {}%\".format(metrics.accuracy_score(y_test,prediction) * 100))"
      ],
      "execution_count": 41,
      "outputs": [
        {
          "output_type": "stream",
          "text": [
            "Accuracy = 100.0%\n"
          ],
          "name": "stdout"
        }
      ]
    },
    {
      "cell_type": "markdown",
      "metadata": {
        "id": "_hFoYHLou4wf"
      },
      "source": [
        "### Finding root node"
      ]
    },
    {
      "cell_type": "code",
      "metadata": {
        "colab": {
          "base_uri": "https://localhost:8080/",
          "height": 575
        },
        "id": "UfJSvG9csnEz",
        "outputId": "0aeaccfc-69ba-4761-edca-ea25061a5583"
      },
      "source": [
        "import matplotlib.pyplot as plt\n",
        "\n",
        "fn=['Age','Income','Student','Credit Rating']\n",
        "cn=['No', 'Yes']\n",
        "\n",
        "plt.figure(figsize = (10,10))\n",
        "\n",
        "tree.plot_tree(clf,\n",
        "               feature_names = fn, \n",
        "               class_names=cn,\n",
        "               filled = True);\n"
      ],
      "execution_count": 40,
      "outputs": [
        {
          "output_type": "display_data",
          "data": {
            "image/png": "[encoded data removed]",
            "text/plain": [
              "<Figure size 720x720 with 1 Axes>"
            ]
          },
          "metadata": {
            "tags": [],
            "needs_background": "light"
          }
        }
      ]
    },
    {
      "cell_type": "code",
      "metadata": {
        "id": "4kLYFYG9vwzW"
      },
      "source": [
        ""
      ],
      "execution_count": null,
      "outputs": []
    }
  ]
}