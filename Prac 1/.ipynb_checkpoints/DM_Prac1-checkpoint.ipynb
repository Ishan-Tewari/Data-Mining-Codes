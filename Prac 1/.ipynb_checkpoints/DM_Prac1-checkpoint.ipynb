{
 "cells": [
  {
   "cell_type": "markdown",
   "metadata": {
    "id": "sFCp9d6TYprY"
   },
   "source": [
    "# Performing various kinds of normalization on given data"
   ]
  },
  {
   "cell_type": "code",
   "execution_count": 94,
   "metadata": {
    "colab": {
     "base_uri": "https://localhost:8080/"
    },
    "id": "bqya_5FcYjJN",
    "outputId": "0ed4461b-c54f-47af-e41d-5bc7ad8047fc"
   },
   "outputs": [
    {
     "name": "stdout",
     "output_type": "stream",
     "text": [
      "Enter the number of elements: 27\n",
      "Enter the elements in comma separated manner: \n",
      "13, 15, 16, 16, 19, 20, 20, 21, 22, 22, 25, 25, 25, 25, 30, 33, 33, 35, 35, 35, 35, 36, 40, 45, 46, 52, 70\n"
     ]
    },
    {
     "data": {
      "text/plain": [
       "[13.0,\n",
       " 15.0,\n",
       " 16.0,\n",
       " 16.0,\n",
       " 19.0,\n",
       " 20.0,\n",
       " 20.0,\n",
       " 21.0,\n",
       " 22.0,\n",
       " 22.0,\n",
       " 25.0,\n",
       " 25.0,\n",
       " 25.0,\n",
       " 25.0,\n",
       " 30.0,\n",
       " 33.0,\n",
       " 33.0,\n",
       " 35.0,\n",
       " 35.0,\n",
       " 35.0,\n",
       " 35.0,\n",
       " 36.0,\n",
       " 40.0,\n",
       " 45.0,\n",
       " 46.0,\n",
       " 52.0,\n",
       " 70.0]"
      ]
     },
     "execution_count": 94,
     "metadata": {
      "tags": []
     },
     "output_type": "execute_result"
    }
   ],
   "source": [
    "# age = [13, 15, 16, 16, 19, 20, 20, 21, 22, 22, 25, 25, 25, 25, 30, 33, 33, 35, 35, 35, 35, 36, 40, 45, 46, 52, 70]\n",
    "n = int(input('Enter the number of elements: '))\n",
    "\n",
    "print('Enter the elements in comma separated manner: ')\n",
    "elements = input()\n",
    "\n",
    "a = map(float,elements.split(','))\n",
    "\n",
    "a = list(a)\n",
    "a"
   ]
  },
  {
   "cell_type": "markdown",
   "metadata": {
    "id": "NcWI0TDFY2T1"
   },
   "source": [
    "**Min-Max Normalization**"
   ]
  },
  {
   "cell_type": "code",
   "execution_count": 95,
   "metadata": {
    "id": "BCYgldOMZqE7"
   },
   "outputs": [],
   "source": [
    "def min_max_normalize(array,v,new_min,new_max):\n",
    "    curr_min = min(array)\n",
    "    curr_max = max(array)\n",
    "\n",
    "    new_v = ((v - curr_min)/(curr_max-curr_min))*(new_max - new_min) + new_min\n",
    "\n",
    "    return new_v"
   ]
  },
  {
   "cell_type": "code",
   "execution_count": 97,
   "metadata": {
    "colab": {
     "base_uri": "https://localhost:8080/"
    },
    "id": "knQDS2nLbenv",
    "outputId": "6a5b62fa-7bd1-4932-d3d2-c340a7dc2610"
   },
   "outputs": [
    {
     "name": "stdout",
     "output_type": "stream",
     "text": [
      "v' = 0.21\n"
     ]
    }
   ],
   "source": [
    "new_v = min_max_normalize(a,25,0,1)\n",
    "print(\"v' = {0:.2f}\".format(new_v))"
   ]
  },
  {
   "cell_type": "markdown",
   "metadata": {
    "id": "cFdQRcnRboNw"
   },
   "source": [
    "**Z-score Normalization**"
   ]
  },
  {
   "cell_type": "code",
   "execution_count": 98,
   "metadata": {
    "id": "iLHHV3Uibit6"
   },
   "outputs": [],
   "source": [
    "import numpy as np\n",
    "def z_score_normalize(array,v):\n",
    "    mean = np.mean(np.array(array))\n",
    "    stdev = np.std(np.array(array))\n",
    "\n",
    "    print(\"Mean = {}\".format(mean))\n",
    "    print(\"Standard Deviation = {}\".format(stdev))\n",
    "    new_v = (v - mean) / stdev\n",
    "\n",
    "    return new_v"
   ]
  },
  {
   "cell_type": "code",
   "execution_count": 100,
   "metadata": {
    "colab": {
     "base_uri": "https://localhost:8080/"
    },
    "id": "pOnaTjdjcnQn",
    "outputId": "f5213b8b-821a-4e77-f6d4-58b752503d63"
   },
   "outputs": [
    {
     "name": "stdout",
     "output_type": "stream",
     "text": [
      "Mean = 29.962962962962962\n",
      "Standard Deviation = 12.700193878606099\n",
      "v' = 0.40\n"
     ]
    }
   ],
   "source": [
    "new_v = z_score_normalize(a,35)\n",
    "print(\"v' = {0:.2f}\".format(new_v))"
   ]
  },
  {
   "cell_type": "markdown",
   "metadata": {
    "id": "jMey3DS8dVfW"
   },
   "source": [
    "**Decimal Scaling**"
   ]
  },
  {
   "cell_type": "code",
   "execution_count": 101,
   "metadata": {
    "id": "3xC4No9Wcswa"
   },
   "outputs": [],
   "source": [
    "def decimal_scale(array,v):\n",
    "    curr_min = min(array)\n",
    "    curr_max = max(array)\n",
    "\n",
    "    abs_max = int(max([abs(curr_min),abs(curr_max)]))\n",
    "    j = 0;\n",
    "\n",
    "    while abs_max != 0:\n",
    "      j += 1\n",
    "      abs_max = int(abs_max/10)\n",
    "    \n",
    "    print(\"J = {}\".format(j))\n",
    "\n",
    "    new_v = v/(10**j)\n",
    "\n",
    "    return new_v"
   ]
  },
  {
   "cell_type": "code",
   "execution_count": 102,
   "metadata": {
    "colab": {
     "base_uri": "https://localhost:8080/"
    },
    "id": "qYYwAIsfd6d-",
    "outputId": "628487a2-6d9f-4074-ea00-59e156c1ae05"
   },
   "outputs": [
    {
     "name": "stdout",
     "output_type": "stream",
     "text": [
      "J = 2\n",
      "v' = 0.35\n"
     ]
    }
   ],
   "source": [
    "new_v = decimal_scale(a,35)\n",
    "print(\"v' = {0:.2f}\".format(new_v))"
   ]
  },
  {
   "cell_type": "code",
   "execution_count": 62,
   "metadata": {
    "id": "e_s6N5T8ehEN"
   },
   "outputs": [],
   "source": []
  }
 ],
 "metadata": {
  "colab": {
   "name": "DM Prac1.ipynb",
   "provenance": []
  },
  "kernelspec": {
   "display_name": "Python 3",
   "language": "python",
   "name": "python3"
  },
  "language_info": {
   "codemirror_mode": {
    "name": "ipython",
    "version": 3
   },
   "file_extension": ".py",
   "mimetype": "text/x-python",
   "name": "python",
   "nbconvert_exporter": "python",
   "pygments_lexer": "ipython3",
   "version": "3.7.4"
  }
 },
 "nbformat": 4,
 "nbformat_minor": 1
}
